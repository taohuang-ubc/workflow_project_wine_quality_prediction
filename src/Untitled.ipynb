{
 "cells": [
  {
   "cell_type": "code",
   "execution_count": 20,
   "metadata": {},
   "outputs": [],
   "source": [
    "#import packages\n",
    "import numpy as np\n",
    "import pandas as pd\n",
    "from sklearn.svm import SVR\n",
    "from sklearn.preprocessing import StandardScaler\n",
    "from sklearn.model_selection import GridSearchCV, RandomizedSearchCV\n",
    "from sklearn.metrics import mean_squared_error\n",
    "from sklearn.model_selection import cross_val_score\n",
    "from sklearn.feature_selection import RFE\n",
    "from sklearn.linear_model import LogisticRegression, LinearRegression\n",
    "import altair as alt\n",
    "from docopt import docopt\n",
    "\n",
    "\n",
    "import warnings\n",
    "warnings.filterwarnings('ignore')\n",
    "\n",
    "# opt = docopt(__doc__)\n",
    "\n",
    "\n",
    "def fit_and_report(model, X, y, Xv, yv, mode = 'regression'):\n",
    "    \"\"\"\n",
    "    report the error of a model, if it is a regression model, scoring uses mean square error\n",
    "    if it is a classification model, scoring uses regular accuray\n",
    "    \n",
    "    Parameters\n",
    "    ----------\n",
    "    X: numpy.ndarray        \n",
    "        The X part of the train set\n",
    "    y: numpy.ndarray\n",
    "        The y part of the train set    \n",
    "    Xv: numpy.ndarray        \n",
    "        The X part of the validation set\n",
    "    yv: numpy.ndarray\n",
    "        The y part of the validation set \n",
    "    model: string \n",
    "        whether the model is a 'regression' model or 'classification',\n",
    "        default value is 'regression'\n",
    "        \n",
    "    Returns\n",
    "    -------\n",
    "        errors: float\n",
    "    \"\"\"\n",
    "    model.fit(X, y)\n",
    "    if mode.lower().startswith('regress'):\n",
    "        errors = [mean_squared_error(y, model.predict(X)), mean_squared_error(yv, model.predict(Xv))]\n",
    "    if mode.lower().startswith('classif'):\n",
    "        errors = [1 - model.score(X,y), 1 - model.score(Xv,yv)]  \n",
    "    \n",
    "    # tests\n",
    "    assert len(errors) ==2, 'the len of errors is 2'\n",
    "    \n",
    "    return errors"
   ]
  },
  {
   "cell_type": "code",
   "execution_count": 21,
   "metadata": {},
   "outputs": [],
   "source": [
    "output = '../results'"
   ]
  },
  {
   "cell_type": "code",
   "execution_count": 78,
   "metadata": {},
   "outputs": [
    {
     "name": "stdout",
     "output_type": "stream",
     "text": [
      "[0.43580028780542784, 0.3821061522987752]\n",
      "           features   weights\n",
      "0  volatile_acidity -0.193340\n",
      "1         chlorides -0.092570\n",
      "2           density -0.014193\n",
      "3                ph -0.072133\n",
      "4         sulphates  0.143803\n",
      "5           alcohol  0.326660\n",
      "This is the end of analysis, Hooray!!!\n"
     ]
    }
   ],
   "source": [
    "X_train = pd.read_csv(\"../data/processed/X_train.csv\")\n",
    "y_train = pd.read_csv(\"../data/processed/y_train.csv\")\n",
    "X_test = pd.read_csv(\"../data/processed/X_test.csv\")\n",
    "y_test = pd.read_csv(\"../data/processed/y_test.csv\")\n",
    "\n",
    "scaler = StandardScaler()\n",
    "X_train_scaled = scaler.fit_transform(X_train)\n",
    "X_test_scaled = scaler.transform(X_test)\n",
    "\n",
    "df = pd.DataFrame(columns = ['n_features_to_select','Train_error', 'Test_error']) \n",
    "\n",
    "for n in range(1,11):\n",
    "    lr = LinearRegression()\n",
    "    rfe = RFE(estimator = lr, n_features_to_select = n)\n",
    "    rfe.fit(X_train, y_train)\n",
    "    X_train_sel = X_train_scaled[:, rfe.support_]\n",
    "    X_test_sel = X_test_scaled[:, rfe.support_]\n",
    "    errors = fit_and_report(lr, X_train_sel, y_train, X_test_sel, y_test, mode='regression')\n",
    "    df = df.append({'n_features_to_select':n, 'Train_error':errors[0], 'Test_error':errors[1]},ignore_index = True)\n",
    "\n",
    "df = pd.melt(df, id_vars=['n_features_to_select'], value_vars=['Train_error','Test_error'],\n",
    "            var_name='error_type', value_name='value')\n",
    "\n",
    "\n",
    "feature_plot = alt.Chart(df).mark_line().encode(\n",
    "    x='n_features_to_select:N',\n",
    "    y='value:Q',\n",
    "    color = 'error_type'\n",
    ").configure_scale(round = True).configure_axisX(labelAngle=0)\n",
    "\n",
    "\n",
    "feature_plot.configure(\n",
    ").properties(\n",
    "    title = \"The relationship between MSE and number of features\",\n",
    "    width = 800,\n",
    "    height = 400\n",
    ").save(output+ \"/ranked_features.png\")\n",
    "\n",
    "\n",
    "lr = LinearRegression()\n",
    "rfe = RFE(estimator = lr, n_features_to_select = 6)\n",
    "rfe.fit(X_train, y_train)\n",
    "\n",
    "\n",
    "X_train_sel = X_train_scaled[:, rfe.support_]\n",
    "X_test_sel = X_test_scaled[:, rfe.support_]\n",
    "\n",
    "lr.fit(X_train_sel,y_train)\n",
    "errors = fit_and_report(lr, X_train_sel, y_train, X_test_sel, y_test, mode='regression')\n",
    "print(errors)\n",
    "\n",
    "relevant_features_bool=rfe.support_\n",
    "relevant_features_list = pd.DataFrame(list(X_train.iloc[:,relevant_features_bool].columns))\n",
    "relevant_features_list\n",
    "\n",
    "relevant_features_list['weights'] = lr.coef_[0]\n",
    "relevant_features_list= relevant_features_list.rename(columns={0: \"features\"})\n",
    "\n",
    "# test\n",
    "assert len(relevant_features_list) == 6, 'The dimension of y_pred_df is wrong'\n",
    "\n",
    "\n",
    "print(relevant_features_list)\n",
    "\n",
    "feature_weight_plot = alt.Chart(relevant_features_list).mark_bar().encode(\n",
    "    alt.X('features:N', sort=alt.EncodingSortField(field=\"features\", op=\"count\", order='ascending')),\n",
    "    y='weights:Q'\n",
    ").configure_axisX(labelFontSize= 15,labelAngle= -45)\n",
    "\n",
    "\n",
    "feature_weight_plot.configure(\n",
    ").properties(\n",
    "    title = \"The feature weights\",\n",
    "    width = 800,\n",
    "    height = 400\n",
    ").save(output+\"/feature_weight_plot.png\")\n",
    "\n",
    "\n",
    "y_pred_df = pd.DataFrame(lr.predict(X_test_sel))\n",
    "y_pred_df = y_pred_df.rename(columns={0: \"predicted\"})\n",
    "y_true_df = y_test.rename(columns={'quality': \"actual\"})\n",
    "\n",
    "result_df = pd.concat([y_pred_df, y_true_df], axis=1)\n",
    "\n",
    "plot_result = alt.Chart(result_df).mark_boxplot().encode(\n",
    "    alt.X('actual:O',scale=alt.Scale(zero=False)),\n",
    "    alt.Y('predicted',scale=alt.Scale(zero=False))\n",
    ").configure_axisX(labelFontSize= 15,labelAngle= -45)\n",
    "\n",
    "plot_result.configure(\n",
    "    numberFormat=\"0.4f\"\n",
    ").properties(\n",
    "    title = \"The prediction result\",\n",
    "    width = 800,\n",
    "    height = 400\n",
    ").save('../results'+ \"/prediction_result.png\")\n",
    "\n",
    "print('This is the end of analysis, Hooray!!!')"
   ]
  },
  {
   "cell_type": "code",
   "execution_count": 57,
   "metadata": {},
   "outputs": [
    {
     "data": {
      "text/html": [
       "<div>\n",
       "<style scoped>\n",
       "    .dataframe tbody tr th:only-of-type {\n",
       "        vertical-align: middle;\n",
       "    }\n",
       "\n",
       "    .dataframe tbody tr th {\n",
       "        vertical-align: top;\n",
       "    }\n",
       "\n",
       "    .dataframe thead th {\n",
       "        text-align: right;\n",
       "    }\n",
       "</style>\n",
       "<table border=\"1\" class=\"dataframe\">\n",
       "  <thead>\n",
       "    <tr style=\"text-align: right;\">\n",
       "      <th></th>\n",
       "      <th>predicted</th>\n",
       "      <th>actual</th>\n",
       "    </tr>\n",
       "  </thead>\n",
       "  <tbody>\n",
       "    <tr>\n",
       "      <td>0</td>\n",
       "      <td>5.671702</td>\n",
       "      <td>5</td>\n",
       "    </tr>\n",
       "    <tr>\n",
       "      <td>1</td>\n",
       "      <td>5.449555</td>\n",
       "      <td>6</td>\n",
       "    </tr>\n",
       "    <tr>\n",
       "      <td>2</td>\n",
       "      <td>6.038408</td>\n",
       "      <td>6</td>\n",
       "    </tr>\n",
       "    <tr>\n",
       "      <td>3</td>\n",
       "      <td>5.701823</td>\n",
       "      <td>6</td>\n",
       "    </tr>\n",
       "    <tr>\n",
       "      <td>4</td>\n",
       "      <td>6.638019</td>\n",
       "      <td>6</td>\n",
       "    </tr>\n",
       "    <tr>\n",
       "      <td>...</td>\n",
       "      <td>...</td>\n",
       "      <td>...</td>\n",
       "    </tr>\n",
       "    <tr>\n",
       "      <td>315</td>\n",
       "      <td>5.668356</td>\n",
       "      <td>5</td>\n",
       "    </tr>\n",
       "    <tr>\n",
       "      <td>316</td>\n",
       "      <td>5.151744</td>\n",
       "      <td>5</td>\n",
       "    </tr>\n",
       "    <tr>\n",
       "      <td>317</td>\n",
       "      <td>5.027941</td>\n",
       "      <td>5</td>\n",
       "    </tr>\n",
       "    <tr>\n",
       "      <td>318</td>\n",
       "      <td>6.199834</td>\n",
       "      <td>7</td>\n",
       "    </tr>\n",
       "    <tr>\n",
       "      <td>319</td>\n",
       "      <td>6.217917</td>\n",
       "      <td>6</td>\n",
       "    </tr>\n",
       "  </tbody>\n",
       "</table>\n",
       "<p>320 rows × 2 columns</p>\n",
       "</div>"
      ],
      "text/plain": [
       "     predicted  actual\n",
       "0     5.671702       5\n",
       "1     5.449555       6\n",
       "2     6.038408       6\n",
       "3     5.701823       6\n",
       "4     6.638019       6\n",
       "..         ...     ...\n",
       "315   5.668356       5\n",
       "316   5.151744       5\n",
       "317   5.027941       5\n",
       "318   6.199834       7\n",
       "319   6.217917       6\n",
       "\n",
       "[320 rows x 2 columns]"
      ]
     },
     "execution_count": 57,
     "metadata": {},
     "output_type": "execute_result"
    }
   ],
   "source": [
    "result_df"
   ]
  },
  {
   "cell_type": "code",
   "execution_count": 77,
   "metadata": {},
   "outputs": [
    {
     "data": {
      "application/vnd.vegalite.v3+json": {
       "$schema": "https://vega.github.io/schema/vega-lite/v3.4.0.json",
       "config": {
        "axisX": {
         "labelAngle": -45,
         "labelFontSize": 15
        },
        "mark": {
         "tooltip": null
        },
        "view": {
         "height": 300,
         "width": 400
        }
       },
       "data": {
        "name": "data-e567e7f9b015033c22667c140aebcd74"
       },
       "datasets": {
        "data-e567e7f9b015033c22667c140aebcd74": [
         {
          "actual": 5,
          "predicted": 5.671702127311174
         },
         {
          "actual": 6,
          "predicted": 5.449554501724287
         },
         {
          "actual": 6,
          "predicted": 6.038408125114512
         },
         {
          "actual": 6,
          "predicted": 5.701823147001206
         },
         {
          "actual": 6,
          "predicted": 6.6380185819426565
         },
         {
          "actual": 6,
          "predicted": 5.898984105668686
         },
         {
          "actual": 6,
          "predicted": 6.132124744156599
         },
         {
          "actual": 5,
          "predicted": 5.258587892829585
         },
         {
          "actual": 5,
          "predicted": 5.679846518109207
         },
         {
          "actual": 5,
          "predicted": 5.0566693162927505
         },
         {
          "actual": 6,
          "predicted": 6.074493151345526
         },
         {
          "actual": 6,
          "predicted": 5.319460646899261
         },
         {
          "actual": 6,
          "predicted": 5.594786848792372
         },
         {
          "actual": 6,
          "predicted": 6.431559611388226
         },
         {
          "actual": 6,
          "predicted": 5.587807952324533
         },
         {
          "actual": 5,
          "predicted": 5.350571868777502
         },
         {
          "actual": 6,
          "predicted": 5.809680960494039
         },
         {
          "actual": 5,
          "predicted": 5.409337863187239
         },
         {
          "actual": 5,
          "predicted": 5.657245888407004
         },
         {
          "actual": 5,
          "predicted": 5.431754546931629
         },
         {
          "actual": 6,
          "predicted": 5.650823940167714
         },
         {
          "actual": 6,
          "predicted": 6.030460766003494
         },
         {
          "actual": 5,
          "predicted": 5.363429388016941
         },
         {
          "actual": 6,
          "predicted": 6.381168928719953
         },
         {
          "actual": 6,
          "predicted": 5.619703469231681
         },
         {
          "actual": 6,
          "predicted": 6.277052056042825
         },
         {
          "actual": 6,
          "predicted": 5.988400115217348
         },
         {
          "actual": 6,
          "predicted": 5.806216236126598
         },
         {
          "actual": 6,
          "predicted": 5.301989906127401
         },
         {
          "actual": 7,
          "predicted": 6.574296933132494
         },
         {
          "actual": 6,
          "predicted": 5.1430382271490815
         },
         {
          "actual": 6,
          "predicted": 6.293061305785308
         },
         {
          "actual": 5,
          "predicted": 5.314748369233454
         },
         {
          "actual": 6,
          "predicted": 6.233522788708713
         },
         {
          "actual": 5,
          "predicted": 4.965360496881885
         },
         {
          "actual": 6,
          "predicted": 5.657950534700252
         },
         {
          "actual": 5,
          "predicted": 5.265992115361171
         },
         {
          "actual": 7,
          "predicted": 5.243933983599437
         },
         {
          "actual": 6,
          "predicted": 6.321380088568486
         },
         {
          "actual": 5,
          "predicted": 4.959657046268504
         },
         {
          "actual": 6,
          "predicted": 6.040087831336896
         },
         {
          "actual": 5,
          "predicted": 5.38281297554037
         },
         {
          "actual": 5,
          "predicted": 5.13370955915798
         },
         {
          "actual": 6,
          "predicted": 6.019996783861759
         },
         {
          "actual": 5,
          "predicted": 5.360135030743526
         },
         {
          "actual": 6,
          "predicted": 5.767180339353128
         },
         {
          "actual": 5,
          "predicted": 5.123637519270417
         },
         {
          "actual": 5,
          "predicted": 5.0970735097003415
         },
         {
          "actual": 5,
          "predicted": 5.240909301927285
         },
         {
          "actual": 6,
          "predicted": 5.944180082421892
         },
         {
          "actual": 5,
          "predicted": 5.8982151872927835
         },
         {
          "actual": 4,
          "predicted": 5.355417393297753
         },
         {
          "actual": 7,
          "predicted": 6.119350002709645
         },
         {
          "actual": 5,
          "predicted": 5.094869937206141
         },
         {
          "actual": 5,
          "predicted": 5.163642727032765
         },
         {
          "actual": 6,
          "predicted": 5.974643877244472
         },
         {
          "actual": 6,
          "predicted": 6.046772527968347
         },
         {
          "actual": 6,
          "predicted": 5.963282922545671
         },
         {
          "actual": 5,
          "predicted": 5.630202718701101
         },
         {
          "actual": 5,
          "predicted": 5.44604380932041
         },
         {
          "actual": 5,
          "predicted": 6.479843507012228
         },
         {
          "actual": 6,
          "predicted": 5.274236920720124
         },
         {
          "actual": 5,
          "predicted": 5.272739789611678
         },
         {
          "actual": 6,
          "predicted": 5.695311947326039
         },
         {
          "actual": 5,
          "predicted": 4.876520610736537
         },
         {
          "actual": 6,
          "predicted": 5.513599082211326
         },
         {
          "actual": 7,
          "predicted": 6.591194841820681
         },
         {
          "actual": 6,
          "predicted": 5.752153961614692
         },
         {
          "actual": 6,
          "predicted": 5.69042944664784
         },
         {
          "actual": 6,
          "predicted": 6.449389145075953
         },
         {
          "actual": 5,
          "predicted": 4.965360496881885
         },
         {
          "actual": 6,
          "predicted": 6.3422788841820426
         },
         {
          "actual": 6,
          "predicted": 5.55923458892957
         },
         {
          "actual": 6,
          "predicted": 5.650515827232642
         },
         {
          "actual": 5,
          "predicted": 5.31247096804856
         },
         {
          "actual": 5,
          "predicted": 5.2339939962867605
         },
         {
          "actual": 6,
          "predicted": 6.149669521199738
         },
         {
          "actual": 6,
          "predicted": 5.3126873723626415
         },
         {
          "actual": 5,
          "predicted": 5.945455485514946
         },
         {
          "actual": 6,
          "predicted": 5.739763119125573
         },
         {
          "actual": 5,
          "predicted": 6.007937754019605
         },
         {
          "actual": 5,
          "predicted": 5.349799966037908
         },
         {
          "actual": 5,
          "predicted": 5.211780623145848
         },
         {
          "actual": 6,
          "predicted": 5.407882231324222
         },
         {
          "actual": 5,
          "predicted": 5.632034180454159
         },
         {
          "actual": 5,
          "predicted": 5.389073150599219
         },
         {
          "actual": 5,
          "predicted": 5.478364744882954
         },
         {
          "actual": 7,
          "predicted": 6.175329788419194
         },
         {
          "actual": 5,
          "predicted": 5.31129505638143
         },
         {
          "actual": 6,
          "predicted": 5.8071998741328965
         },
         {
          "actual": 5,
          "predicted": 5.3250018176292855
         },
         {
          "actual": 7,
          "predicted": 6.300972398093367
         },
         {
          "actual": 5,
          "predicted": 5.077030743658388
         },
         {
          "actual": 6,
          "predicted": 6.273463265365949
         },
         {
          "actual": 5,
          "predicted": 6.032632723795533
         },
         {
          "actual": 5,
          "predicted": 5.2715562611591045
         },
         {
          "actual": 6,
          "predicted": 6.261690585271854
         },
         {
          "actual": 5,
          "predicted": 5.376436532558892
         },
         {
          "actual": 3,
          "predicted": 4.685292211665459
         },
         {
          "actual": 6,
          "predicted": 6.350758679029089
         },
         {
          "actual": 5,
          "predicted": 5.40325399117183
         },
         {
          "actual": 5,
          "predicted": 5.369969701198123
         },
         {
          "actual": 5,
          "predicted": 5.337028145366153
         },
         {
          "actual": 5,
          "predicted": 5.223961548958889
         },
         {
          "actual": 5,
          "predicted": 4.881569567767615
         },
         {
          "actual": 5,
          "predicted": 5.308034187982491
         },
         {
          "actual": 6,
          "predicted": 5.724155998052107
         },
         {
          "actual": 6,
          "predicted": 5.451584159713624
         },
         {
          "actual": 5,
          "predicted": 5.891004456147703
         },
         {
          "actual": 6,
          "predicted": 6.760839871325843
         },
         {
          "actual": 7,
          "predicted": 6.488985310512398
         },
         {
          "actual": 5,
          "predicted": 5.3688332199753654
         },
         {
          "actual": 6,
          "predicted": 6.2374872418713085
         },
         {
          "actual": 6,
          "predicted": 5.375573407426264
         },
         {
          "actual": 5,
          "predicted": 4.886739157282836
         },
         {
          "actual": 7,
          "predicted": 6.611363748132341
         },
         {
          "actual": 5,
          "predicted": 5.414269461700235
         },
         {
          "actual": 5,
          "predicted": 5.098813655042673
         },
         {
          "actual": 5,
          "predicted": 5.277548394725527
         },
         {
          "actual": 5,
          "predicted": 5.1907015706549515
         },
         {
          "actual": 4,
          "predicted": 4.7856839030466665
         },
         {
          "actual": 7,
          "predicted": 6.52215667514596
         },
         {
          "actual": 7,
          "predicted": 6.314950597955857
         },
         {
          "actual": 5,
          "predicted": 4.9699904631979965
         },
         {
          "actual": 5,
          "predicted": 5.327714319049994
         },
         {
          "actual": 5,
          "predicted": 5.524112330240198
         },
         {
          "actual": 6,
          "predicted": 5.886352112497214
         },
         {
          "actual": 5,
          "predicted": 5.243116346132262
         },
         {
          "actual": 7,
          "predicted": 6.12573025346433
         },
         {
          "actual": 7,
          "predicted": 5.7306737946648365
         },
         {
          "actual": 6,
          "predicted": 5.65100255718936
         },
         {
          "actual": 5,
          "predicted": 5.22437219999431
         },
         {
          "actual": 7,
          "predicted": 6.2699634730039655
         },
         {
          "actual": 5,
          "predicted": 5.240731651621134
         },
         {
          "actual": 6,
          "predicted": 5.835311433726073
         },
         {
          "actual": 7,
          "predicted": 5.856457642644414
         },
         {
          "actual": 5,
          "predicted": 5.204624869342403
         },
         {
          "actual": 7,
          "predicted": 6.483758354229934
         },
         {
          "actual": 6,
          "predicted": 5.241200069789332
         },
         {
          "actual": 6,
          "predicted": 5.449606840795728
         },
         {
          "actual": 5,
          "predicted": 5.054525886851992
         },
         {
          "actual": 6,
          "predicted": 5.393131853879369
         },
         {
          "actual": 6,
          "predicted": 5.745499060196092
         },
         {
          "actual": 5,
          "predicted": 5.2777846886728375
         },
         {
          "actual": 6,
          "predicted": 5.971373179388527
         },
         {
          "actual": 6,
          "predicted": 6.332295035891697
         },
         {
          "actual": 6,
          "predicted": 5.619611839032601
         },
         {
          "actual": 5,
          "predicted": 5.028938834109682
         },
         {
          "actual": 6,
          "predicted": 5.70441454267904
         },
         {
          "actual": 6,
          "predicted": 5.805938172246695
         },
         {
          "actual": 6,
          "predicted": 5.464839607226336
         },
         {
          "actual": 6,
          "predicted": 6.575198841535362
         },
         {
          "actual": 5,
          "predicted": 5.296505430823864
         },
         {
          "actual": 6,
          "predicted": 5.158902258620801
         },
         {
          "actual": 5,
          "predicted": 6.067374017829806
         },
         {
          "actual": 7,
          "predicted": 6.1365760812035415
         },
         {
          "actual": 5,
          "predicted": 6.193881896341928
         },
         {
          "actual": 6,
          "predicted": 6.177597943271657
         },
         {
          "actual": 6,
          "predicted": 6.018608757783795
         },
         {
          "actual": 6,
          "predicted": 5.3731212663279075
         },
         {
          "actual": 8,
          "predicted": 6.113651711666343
         },
         {
          "actual": 6,
          "predicted": 5.736310645104998
         },
         {
          "actual": 5,
          "predicted": 5.122935632266526
         },
         {
          "actual": 5,
          "predicted": 5.418903014592506
         },
         {
          "actual": 6,
          "predicted": 6.39307366178596
         },
         {
          "actual": 6,
          "predicted": 5.900505287279465
         },
         {
          "actual": 4,
          "predicted": 5.590230994074962
         },
         {
          "actual": 5,
          "predicted": 5.351399165270155
         },
         {
          "actual": 5,
          "predicted": 5.385565493944355
         },
         {
          "actual": 6,
          "predicted": 5.8466121604405545
         },
         {
          "actual": 6,
          "predicted": 5.166483318044294
         },
         {
          "actual": 6,
          "predicted": 6.077981580847318
         },
         {
          "actual": 4,
          "predicted": 5.103445644650475
         },
         {
          "actual": 7,
          "predicted": 5.0320455766578736
         },
         {
          "actual": 5,
          "predicted": 6.377130929171584
         },
         {
          "actual": 6,
          "predicted": 5.357454487198501
         },
         {
          "actual": 5,
          "predicted": 5.398452711086265
         },
         {
          "actual": 5,
          "predicted": 4.9950799434420645
         },
         {
          "actual": 5,
          "predicted": 5.3847861579391605
         },
         {
          "actual": 5,
          "predicted": 5.2715562611591045
         },
         {
          "actual": 6,
          "predicted": 5.585276311932566
         },
         {
          "actual": 6,
          "predicted": 6.336913228308944
         },
         {
          "actual": 5,
          "predicted": 5.716482753908321
         },
         {
          "actual": 6,
          "predicted": 6.01762559861772
         },
         {
          "actual": 6,
          "predicted": 6.38737064352198
         },
         {
          "actual": 6,
          "predicted": 6.845405603192282
         },
         {
          "actual": 7,
          "predicted": 6.27259018789784
         },
         {
          "actual": 6,
          "predicted": 5.528469725312284
         },
         {
          "actual": 4,
          "predicted": 5.1027872935373715
         },
         {
          "actual": 6,
          "predicted": 4.977802366588496
         },
         {
          "actual": 5,
          "predicted": 5.417841748179064
         },
         {
          "actual": 6,
          "predicted": 5.800137005807766
         },
         {
          "actual": 6,
          "predicted": 5.464462256644959
         },
         {
          "actual": 5,
          "predicted": 5.076943749333083
         },
         {
          "actual": 6,
          "predicted": 5.971043362102752
         },
         {
          "actual": 5,
          "predicted": 5.197914225472116
         },
         {
          "actual": 4,
          "predicted": 5.605628052400313
         },
         {
          "actual": 5,
          "predicted": 5.587756914631774
         },
         {
          "actual": 6,
          "predicted": 5.5223274133287354
         },
         {
          "actual": 5,
          "predicted": 5.292560703383102
         },
         {
          "actual": 7,
          "predicted": 6.1364646079572465
         },
         {
          "actual": 5,
          "predicted": 5.581373811977039
         },
         {
          "actual": 7,
          "predicted": 6.167948417166854
         },
         {
          "actual": 5,
          "predicted": 5.172059967061726
         },
         {
          "actual": 7,
          "predicted": 6.530023025992349
         },
         {
          "actual": 6,
          "predicted": 5.921349859557887
         },
         {
          "actual": 5,
          "predicted": 5.135896402261404
         },
         {
          "actual": 5,
          "predicted": 5.15151267679809
         },
         {
          "actual": 6,
          "predicted": 6.388771105752857
         },
         {
          "actual": 5,
          "predicted": 5.759279269893097
         },
         {
          "actual": 5,
          "predicted": 5.8077012900022575
         },
         {
          "actual": 7,
          "predicted": 6.039103074948348
         },
         {
          "actual": 5,
          "predicted": 5.337028145366153
         },
         {
          "actual": 6,
          "predicted": 6.420444098309406
         },
         {
          "actual": 5,
          "predicted": 5.4638980467668885
         },
         {
          "actual": 6,
          "predicted": 5.320175369403454
         },
         {
          "actual": 5,
          "predicted": 5.260074142421323
         },
         {
          "actual": 5,
          "predicted": 4.997622279661139
         },
         {
          "actual": 7,
          "predicted": 5.989881664359667
         },
         {
          "actual": 6,
          "predicted": 5.629408721603918
         },
         {
          "actual": 5,
          "predicted": 5.720738771260649
         },
         {
          "actual": 6,
          "predicted": 5.2901400989124365
         },
         {
          "actual": 5,
          "predicted": 5.287451201542409
         },
         {
          "actual": 5,
          "predicted": 5.2037017686959794
         },
         {
          "actual": 6,
          "predicted": 5.974953690555416
         },
         {
          "actual": 5,
          "predicted": 5.596683632317646
         },
         {
          "actual": 4,
          "predicted": 5.542907637997098
         },
         {
          "actual": 7,
          "predicted": 5.745385885331161
         },
         {
          "actual": 7,
          "predicted": 6.517247307731782
         },
         {
          "actual": 7,
          "predicted": 5.826058765259411
         },
         {
          "actual": 6,
          "predicted": 5.242683450971938
         },
         {
          "actual": 6,
          "predicted": 4.996379744872
         },
         {
          "actual": 7,
          "predicted": 6.164207146423527
         },
         {
          "actual": 6,
          "predicted": 6.105311609748005
         },
         {
          "actual": 6,
          "predicted": 5.4944510447747295
         },
         {
          "actual": 6,
          "predicted": 5.064160091273806
         },
         {
          "actual": 6,
          "predicted": 6.2179174708036244
         },
         {
          "actual": 6,
          "predicted": 5.0737044240556965
         },
         {
          "actual": 5,
          "predicted": 5.583565816146839
         },
         {
          "actual": 4,
          "predicted": 5.346117524601846
         },
         {
          "actual": 6,
          "predicted": 5.916913101953448
         },
         {
          "actual": 5,
          "predicted": 5.952757366881133
         },
         {
          "actual": 7,
          "predicted": 5.857827165302355
         },
         {
          "actual": 6,
          "predicted": 5.3280943742782165
         },
         {
          "actual": 6,
          "predicted": 5.747181438357547
         },
         {
          "actual": 8,
          "predicted": 6.72786989612767
         },
         {
          "actual": 6,
          "predicted": 5.893783915810265
         },
         {
          "actual": 5,
          "predicted": 5.355781845454612
         },
         {
          "actual": 5,
          "predicted": 4.8669641232284295
         },
         {
          "actual": 5,
          "predicted": 5.314629328074884
         },
         {
          "actual": 5,
          "predicted": 5.101917467302945
         },
         {
          "actual": 4,
          "predicted": 5.054963898279269
         },
         {
          "actual": 6,
          "predicted": 6.583115894727223
         },
         {
          "actual": 6,
          "predicted": 5.724857612276374
         },
         {
          "actual": 6,
          "predicted": 6.173613422527996
         },
         {
          "actual": 5,
          "predicted": 5.130143801694293
         },
         {
          "actual": 5,
          "predicted": 5.481072074539242
         },
         {
          "actual": 4,
          "predicted": 4.890002947722092
         },
         {
          "actual": 5,
          "predicted": 5.4265751103465245
         },
         {
          "actual": 5,
          "predicted": 5.808803361065306
         },
         {
          "actual": 6,
          "predicted": 5.957014678809972
         },
         {
          "actual": 5,
          "predicted": 5.382115006649234
         },
         {
          "actual": 5,
          "predicted": 5.499910888455154
         },
         {
          "actual": 5,
          "predicted": 5.355703415448767
         },
         {
          "actual": 4,
          "predicted": 5.61693821850855
         },
         {
          "actual": 6,
          "predicted": 5.70441454267904
         },
         {
          "actual": 5,
          "predicted": 5.509952156901179
         },
         {
          "actual": 5,
          "predicted": 5.293842481832401
         },
         {
          "actual": 6,
          "predicted": 5.059732834432423
         },
         {
          "actual": 6,
          "predicted": 6.115698649545254
         },
         {
          "actual": 5,
          "predicted": 5.411890817461952
         },
         {
          "actual": 6,
          "predicted": 5.717106503839577
         },
         {
          "actual": 5,
          "predicted": 5.320779767537015
         },
         {
          "actual": 6,
          "predicted": 6.492729482796426
         },
         {
          "actual": 6,
          "predicted": 5.100618052631742
         },
         {
          "actual": 5,
          "predicted": 5.752940390254791
         },
         {
          "actual": 5,
          "predicted": 4.8931547766094
         },
         {
          "actual": 6,
          "predicted": 6.077981580847318
         },
         {
          "actual": 5,
          "predicted": 5.382559555796515
         },
         {
          "actual": 5,
          "predicted": 5.3409737734543015
         },
         {
          "actual": 6,
          "predicted": 6.6993654652745835
         },
         {
          "actual": 4,
          "predicted": 5.735278073418125
         },
         {
          "actual": 4,
          "predicted": 5.574490798363439
         },
         {
          "actual": 5,
          "predicted": 5.235893795201652
         },
         {
          "actual": 6,
          "predicted": 5.214148926494408
         },
         {
          "actual": 5,
          "predicted": 5.889129485431897
         },
         {
          "actual": 6,
          "predicted": 5.559239036850267
         },
         {
          "actual": 5,
          "predicted": 6.031167212887749
         },
         {
          "actual": 5,
          "predicted": 4.741148352046273
         },
         {
          "actual": 5,
          "predicted": 5.66391601665229
         },
         {
          "actual": 6,
          "predicted": 5.816333679753174
         },
         {
          "actual": 6,
          "predicted": 5.809680960494039
         },
         {
          "actual": 6,
          "predicted": 5.556356101119923
         },
         {
          "actual": 5,
          "predicted": 5.262169883816263
         },
         {
          "actual": 6,
          "predicted": 6.365206685594899
         },
         {
          "actual": 7,
          "predicted": 6.10706955996061
         },
         {
          "actual": 5,
          "predicted": 5.093394152482839
         },
         {
          "actual": 5,
          "predicted": 6.3565807089564785
         },
         {
          "actual": 5,
          "predicted": 5.37728168369962
         },
         {
          "actual": 5,
          "predicted": 5.545899703047905
         },
         {
          "actual": 6,
          "predicted": 5.660826534051951
         },
         {
          "actual": 6,
          "predicted": 6.201657727548323
         },
         {
          "actual": 5,
          "predicted": 5.209334689384756
         },
         {
          "actual": 5,
          "predicted": 5.7603354117103525
         },
         {
          "actual": 6,
          "predicted": 5.482120106910296
         },
         {
          "actual": 6,
          "predicted": 5.368346755700659
         },
         {
          "actual": 5,
          "predicted": 5.016762011429019
         },
         {
          "actual": 5,
          "predicted": 6.202367395354597
         },
         {
          "actual": 5,
          "predicted": 5.635202560981141
         },
         {
          "actual": 5,
          "predicted": 5.070263925075527
         },
         {
          "actual": 5,
          "predicted": 5.413274533714734
         },
         {
          "actual": 5,
          "predicted": 5.6631443512390565
         },
         {
          "actual": 6,
          "predicted": 5.3881749081461345
         },
         {
          "actual": 6,
          "predicted": 6.565693045535584
         },
         {
          "actual": 6,
          "predicted": 5.482438151284672
         },
         {
          "actual": 5,
          "predicted": 5.668356202952838
         },
         {
          "actual": 5,
          "predicted": 5.151743602608051
         },
         {
          "actual": 5,
          "predicted": 5.02794128592073
         },
         {
          "actual": 7,
          "predicted": 6.199834097035062
         },
         {
          "actual": 6,
          "predicted": 6.2179174708036244
         }
        ]
       },
       "encoding": {
        "x": {
         "field": "actual",
         "scale": {
          "zero": false
         },
         "type": "ordinal"
        },
        "y": {
         "field": "predicted",
         "scale": {
          "zero": false
         },
         "type": "quantitative"
        }
       },
       "mark": "boxplot"
      },
      "image/png": "[encoded data removed]",
      "text/plain": [
       "<VegaLite 3 object>\n",
       "\n",
       "If you see this message, it means the renderer has not been properly enabled\n",
       "for the frontend that you are using. For more information, see\n",
       "https://altair-viz.github.io/user_guide/troubleshooting.html\n"
      ]
     },
     "execution_count": 77,
     "metadata": {},
     "output_type": "execute_result"
    }
   ],
   "source": [
    "alt.Chart(result_df).mark_boxplot().encode(\n",
    "    alt.X('actual:O',scale=alt.Scale(zero=False)),\n",
    "    alt.Y('predicted',scale=alt.Scale(zero=False))\n",
    ").configure_axisX(labelFontSize= 15,labelAngle= -45)"
   ]
  },
  {
   "cell_type": "code",
   "execution_count": null,
   "metadata": {},
   "outputs": [],
   "source": []
  }
 ],
 "metadata": {
  "kernelspec": {
   "display_name": "Python 3",
   "language": "python",
   "name": "python3"
  },
  "language_info": {
   "codemirror_mode": {
    "name": "ipython",
    "version": 3
   },
   "file_extension": ".py",
   "mimetype": "text/x-python",
   "name": "python",
   "nbconvert_exporter": "python",
   "pygments_lexer": "ipython3",
   "version": "3.7.4"
  }
 },
 "nbformat": 4,
 "nbformat_minor": 4
}
